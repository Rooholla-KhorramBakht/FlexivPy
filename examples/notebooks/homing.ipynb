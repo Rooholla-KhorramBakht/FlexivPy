{
 "cells": [
  {
   "cell_type": "code",
   "execution_count": 1,
   "metadata": {},
   "outputs": [],
   "source": [
    "import pinocchio as pin\n",
    "import numpy as np\n",
    "from FlexivPy.robot.model.pinocchio import FlexivModel\n",
    "from FlexivPy.sim.MuJoCo import FlexivSimMujoco as FlexivSim\n",
    "from FlexivPy.robot.dds.flexiv_messages import FlexivCmd"
   ]
  },
  {
   "cell_type": "code",
   "execution_count": 2,
   "metadata": {},
   "outputs": [
    {
     "name": "stdout",
     "output_type": "stream",
     "text": [
      "robot sim is ready!\n"
     ]
    }
   ],
   "source": [
    "model = FlexivModel()\n",
    "robot = FlexivSim(render=True, dt=0.002)"
   ]
  },
  {
   "cell_type": "code",
   "execution_count": 3,
   "metadata": {},
   "outputs": [],
   "source": [
    "from FlexivPy.controllers.jointspace import RRTController\n",
    "task_controller = RRTController()"
   ]
  },
  {
   "cell_type": "markdown",
   "metadata": {},
   "source": [
    "### Blocking"
   ]
  },
  {
   "cell_type": "code",
   "execution_count": 4,
   "metadata": {},
   "outputs": [],
   "source": [
    "from FlexivPy.controllers.runners import blocking_runner"
   ]
  },
  {
   "cell_type": "code",
   "execution_count": 5,
   "metadata": {},
   "outputs": [
    {
     "name": "stdout",
     "output_type": "stream",
     "text": [
      "goal reached\n"
     ]
    },
    {
     "data": {
      "text/plain": [
       "<ControllerStatus.GOAL_REACHED: 1>"
      ]
     },
     "execution_count": 5,
     "metadata": {},
     "output_type": "execute_result"
    }
   ],
   "source": [
    "robot.reset_state_robot(model.q0, np.zeros(7))\n",
    "robot.viewer.sync()\n",
    "blocking_runner(robot, task_controller)"
   ]
  },
  {
   "cell_type": "markdown",
   "metadata": {},
   "source": [
    "### Nonblocking"
   ]
  },
  {
   "cell_type": "code",
   "execution_count": null,
   "metadata": {},
   "outputs": [],
   "source": [
    "from FlexivPy.controllers.runners import NonBlockingRunner\n",
    "runner = NonBlockingRunner(robot, task_controller)"
   ]
  },
  {
   "cell_type": "code",
   "execution_count": null,
   "metadata": {},
   "outputs": [],
   "source": [
    "runner.close()"
   ]
  },
  {
   "cell_type": "code",
   "execution_count": null,
   "metadata": {},
   "outputs": [],
   "source": [
    "info = model.getInfo(model.q0, np.zeros(7))\n",
    "T_cmd = info['poses']['link7']"
   ]
  },
  {
   "cell_type": "code",
   "execution_count": null,
   "metadata": {},
   "outputs": [],
   "source": [
    "task_controller.T_cmd = T_cmd"
   ]
  },
  {
   "cell_type": "code",
   "execution_count": null,
   "metadata": {},
   "outputs": [],
   "source": [
    "runner.close()"
   ]
  },
  {
   "cell_type": "markdown",
   "metadata": {},
   "source": [
    "# Async Test"
   ]
  },
  {
   "cell_type": "code",
   "execution_count": 1,
   "metadata": {},
   "outputs": [
    {
     "name": "stdout",
     "output_type": "stream",
     "text": [
      "waiting to receive the first message from the robot...\n",
      "Robot is ready!\n"
     ]
    }
   ],
   "source": [
    "from FlexivPy.robot.interface import FlexivDDSClient\n",
    "robot =FlexivDDSClient()"
   ]
  },
  {
   "cell_type": "code",
   "execution_count": 2,
   "metadata": {},
   "outputs": [
    {
     "data": {
      "text/plain": [
       "FlexivState(q=[-0.18567925691604614, -1.012276291847229, -0.3605140745639801, 1.555705189704895, 0.4643424451351166, 0.7825241088867188, -0.15308356285095215], dq=[0.00022807983623351902, 4.963977698935196e-05, -0.00016313233936671168, 0.00031403067987412214, -0.0003877430281136185, -0.0004119698132853955, -0.0005689652753062546], tau=[-0.25, 75.42500305175781, -2.369999885559082, -15.75999927520752, -2.1440000534057617, 3.2720000743865967, 0.036000002175569534], ft_sensor=[-5.337933540344238, -2.459895133972168, 2.6597678661346436, -0.256573885679245, 0.04584695026278496, -0.2061091959476471], timestamp='2024-09-24 01:00:16.584', g_state='', g_moving=False, g_force=0.0, g_width=0.0, state='waiting')"
      ]
     },
     "execution_count": 2,
     "metadata": {},
     "output_type": "execute_result"
    }
   ],
   "source": [
    "robot.get_robot_state()"
   ]
  },
  {
   "cell_type": "code",
   "execution_count": 3,
   "metadata": {},
   "outputs": [],
   "source": [
    "from FlexivPy.controllers.jointspace import RRTController, JointFloating\n",
    "task_controller = RRTController()\n",
    "floating_controller = JointFloating()"
   ]
  },
  {
   "cell_type": "markdown",
   "metadata": {},
   "source": [
    "### Blocking"
   ]
  },
  {
   "cell_type": "code",
   "execution_count": 5,
   "metadata": {},
   "outputs": [],
   "source": [
    "from FlexivPy.controllers.runners import blocking_runner"
   ]
  },
  {
   "cell_type": "code",
   "execution_count": 9,
   "metadata": {},
   "outputs": [
    {
     "name": "stdout",
     "output_type": "stream",
     "text": [
      "goal reached\n"
     ]
    },
    {
     "data": {
      "text/plain": [
       "<ControllerStatus.GOAL_REACHED: 1>"
      ]
     },
     "execution_count": 9,
     "metadata": {},
     "output_type": "execute_result"
    }
   ],
   "source": [
    "blocking_runner(robot, task_controller)"
   ]
  },
  {
   "cell_type": "code",
   "execution_count": 7,
   "metadata": {},
   "outputs": [
    {
     "name": "stdout",
     "output_type": "stream",
     "text": [
      "max time reached\n"
     ]
    },
    {
     "data": {
      "text/plain": [
       "<ControllerStatus.MAX_TIME: 3>"
      ]
     },
     "execution_count": 7,
     "metadata": {},
     "output_type": "execute_result"
    }
   ],
   "source": [
    "blocking_runner(robot, floating_controller, timeout=10)"
   ]
  },
  {
   "cell_type": "code",
   "execution_count": null,
   "metadata": {},
   "outputs": [],
   "source": []
  }
 ],
 "metadata": {
  "kernelspec": {
   "display_name": "base",
   "language": "python",
   "name": "python3"
  },
  "language_info": {
   "codemirror_mode": {
    "name": "ipython",
    "version": 3
   },
   "file_extension": ".py",
   "mimetype": "text/x-python",
   "name": "python",
   "nbconvert_exporter": "python",
   "pygments_lexer": "ipython3",
   "version": "3.10.15"
  }
 },
 "nbformat": 4,
 "nbformat_minor": 2
}
