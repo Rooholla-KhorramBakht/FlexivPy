{
 "cells": [
  {
   "cell_type": "markdown",
   "metadata": {},
   "source": [
    "# Open The Cameras"
   ]
  },
  {
   "cell_type": "markdown",
   "metadata": {},
   "source": [
    "## Cameras On The Base"
   ]
  },
  {
   "cell_type": "code",
   "execution_count": 1,
   "metadata": {},
   "outputs": [],
   "source": [
    "from FlexivPy.vision import RealSenseCamera"
   ]
  },
  {
   "cell_type": "code",
   "execution_count": null,
   "metadata": {},
   "outputs": [],
   "source": [
    "# Camera to the left of the robot\n",
    "camera1 = RealSenseCamera(VGA=False, camera_serial_no=\"234222302193\")"
   ]
  },
  {
   "cell_type": "code",
   "execution_count": null,
   "metadata": {},
   "outputs": [],
   "source": [
    "# Camera to the right of the robot\n",
    "camera2 = RealSenseCamera(VGA=False, camera_serial_no=\"231622302407\")"
   ]
  },
  {
   "cell_type": "code",
   "execution_count": null,
   "metadata": {},
   "outputs": [],
   "source": [
    "import matplotlib.pyplot as plt\n",
    "\n",
    "plt.imshow(camera1.color_frame)"
   ]
  },
  {
   "cell_type": "code",
   "execution_count": 7,
   "metadata": {},
   "outputs": [],
   "source": [
    "import time\n",
    "\n",
    "left_camera_imgs = []\n",
    "right_camera_imgs = []\n",
    "for i in range(120):\n",
    "    left_img = camera1.color_frame.copy()\n",
    "    right_img = camera2.color_frame.copy()\n",
    "    left_camera_imgs.append(left_img)\n",
    "    right_camera_imgs.append(right_img)\n",
    "    time.sleep(0.5)"
   ]
  },
  {
   "cell_type": "code",
   "execution_count": 8,
   "metadata": {},
   "outputs": [],
   "source": [
    "left_cam_ints = camera1.getIntrinsics()\n",
    "right_cam_ints = camera2.getIntrinsics()"
   ]
  },
  {
   "cell_type": "code",
   "execution_count": 10,
   "metadata": {},
   "outputs": [],
   "source": [
    "import pickle\n",
    "\n",
    "with open(\"cam_on_base_calib.pkl\", \"wb\") as f:\n",
    "    pickle.dump(\n",
    "        {\n",
    "            \"left_imgs\": left_camera_imgs,\n",
    "            \"right_imgs\": right_camera_imgs,\n",
    "            \"left_params\": left_cam_ints,\n",
    "            \"right_params\": right_cam_ints,\n",
    "        },\n",
    "        f,\n",
    "    )"
   ]
  },
  {
   "cell_type": "markdown",
   "metadata": {},
   "source": [
    "# Camera on EF"
   ]
  },
  {
   "cell_type": "code",
   "execution_count": 1,
   "metadata": {},
   "outputs": [],
   "source": [
    "import cv2\n",
    "\n",
    "\n",
    "def camera_callback(color_frame, depth_frame, ir1_frame, ir2_frame):\n",
    "    cv2.imshow(\"frame\", color_frame)\n",
    "    cv2.waitKey(1)"
   ]
  },
  {
   "cell_type": "code",
   "execution_count": null,
   "metadata": {},
   "outputs": [],
   "source": [
    "from FlexivPy.vision import RealSenseCamera\n",
    "\n",
    "camera = RealSenseCamera(VGA=False, callback_fn=camera_callback)\n",
    "camera_ints = camera.getIntrinsics()"
   ]
  },
  {
   "cell_type": "code",
   "execution_count": null,
   "metadata": {},
   "outputs": [],
   "source": [
    "from FlexivPy.joy import XBoxController\n",
    "\n",
    "joy = XBoxController(0)"
   ]
  },
  {
   "cell_type": "code",
   "execution_count": null,
   "metadata": {},
   "outputs": [],
   "source": [
    "joy.getStates()"
   ]
  },
  {
   "cell_type": "code",
   "execution_count": null,
   "metadata": {},
   "outputs": [],
   "source": [
    "import pinocchio as pin\n",
    "import numpy as np\n",
    "from FlexivPy.robot.model.pinocchio import FlexivModel\n",
    "from FlexivPy.robot.interface import FlexivDDSClient\n",
    "\n",
    "model = FlexivModel()\n",
    "robot = FlexivDDSClient()"
   ]
  },
  {
   "cell_type": "code",
   "execution_count": null,
   "metadata": {},
   "outputs": [],
   "source": [
    "robot.close()"
   ]
  },
  {
   "cell_type": "code",
   "execution_count": 13,
   "metadata": {},
   "outputs": [],
   "source": [
    "from FlexivPy.controllers.runners import NonBlockingRunner\n",
    "from FlexivPy.controllers.taskspace import DiffIKController\n",
    "\n",
    "task_controller = DiffIKController(\n",
    "    model, dt=0.01, dq_max=1.0, control_mode=\"velocity\", max_error=0.1\n",
    ")"
   ]
  },
  {
   "cell_type": "code",
   "execution_count": 14,
   "metadata": {},
   "outputs": [],
   "source": [
    "runner = NonBlockingRunner(robot, task_controller, timeout=1000.0)"
   ]
  },
  {
   "cell_type": "code",
   "execution_count": null,
   "metadata": {},
   "outputs": [],
   "source": [
    "import time\n",
    "import numpy as np\n",
    "import datetime\n",
    "\n",
    "images = []\n",
    "robot_poses = []\n",
    "time.sleep(0.2)\n",
    "state = robot.get_robot_state()\n",
    "\n",
    "if state is not None:\n",
    "    print(\"starting the controller\")\n",
    "    info = model.getInfo(np.array(state.q), np.array(state.dq))\n",
    "    T0 = info[\"poses\"][\"link7\"]\n",
    "    # Initialize the desired pose\n",
    "    x0, y0, z0 = 0.0, 0.0, 0.0\n",
    "    R0 = np.eye(3)\n",
    "    start_time = time.time()\n",
    "    while time.time() - start_time < 1000:\n",
    "        joy_state = joy.getStates()\n",
    "        left_joy = joy_state[\"left_joy\"]\n",
    "        right_joy = joy_state[\"right_joy\"]\n",
    "\n",
    "        if joy_state[\"right_bumper\"] == 0:\n",
    "            y0 = y0 + right_joy[0] * 0.2 / 100\n",
    "            x0 = x0 + right_joy[1] * 0.2 / 100\n",
    "            z0 = z0 - left_joy[1] * 0.2 / 100\n",
    "        else:\n",
    "            cmd = np.array([right_joy[0], right_joy[1], left_joy[0]])\n",
    "            omega_hat = np.array(\n",
    "                [[0, -cmd[2], cmd[1]], [cmd[2], 0, -cmd[0]], [-cmd[1], cmd[0], 0]]\n",
    "            )\n",
    "            R0 = R0 @ (np.eye(3) + omega_hat / 100)\n",
    "\n",
    "        time.sleep(0.01)\n",
    "        T_cmd = T0 @ np.vstack(\n",
    "            [\n",
    "                np.hstack([R0, np.array([x0, y0, z0]).reshape(3, 1)]),\n",
    "                np.array([0, 0, 0, 1]),\n",
    "            ]\n",
    "        )\n",
    "        task_controller.T_cmd = T_cmd\n",
    "        state = robot.get_robot_state()\n",
    "        info = model.getInfo(np.array(state.q), np.array(state.dq))\n",
    "        T = info[\"poses\"][\"link7\"]\n",
    "        if joy_state[\"A\"]:\n",
    "            robot_poses.append(T.copy())\n",
    "            images.append(camera.color_frame.copy())\n",
    "            print(\"took a pictures\")\n",
    "            time.sleep(0.1)\n",
    "\n",
    "    print(\"Demo ended.\")\n",
    "else:\n",
    "    print(\"State is None. check the connection\")"
   ]
  },
  {
   "cell_type": "code",
   "execution_count": 20,
   "metadata": {},
   "outputs": [],
   "source": [
    "import pickle\n",
    "\n",
    "with open(\"cam_on_hand_calib.pkl\", \"wb\") as f:\n",
    "    pickle.dump(\n",
    "        {\n",
    "            \"imgs\": images,\n",
    "            \"params\": camera_ints,\n",
    "        },\n",
    "        f,\n",
    "    )"
   ]
  },
  {
   "cell_type": "code",
   "execution_count": 22,
   "metadata": {},
   "outputs": [],
   "source": [
    "runner.close()"
   ]
  },
  {
   "cell_type": "code",
   "execution_count": 23,
   "metadata": {},
   "outputs": [],
   "source": [
    "camera.close()"
   ]
  },
  {
   "cell_type": "code",
   "execution_count": 24,
   "metadata": {},
   "outputs": [],
   "source": [
    "cv2.destroyAllWindows()"
   ]
  },
  {
   "cell_type": "code",
   "execution_count": null,
   "metadata": {},
   "outputs": [],
   "source": []
  }
 ],
 "metadata": {
  "kernelspec": {
   "display_name": "base",
   "language": "python",
   "name": "python3"
  },
  "language_info": {
   "codemirror_mode": {
    "name": "ipython",
    "version": 3
   },
   "file_extension": ".py",
   "mimetype": "text/x-python",
   "name": "python",
   "nbconvert_exporter": "python",
   "pygments_lexer": "ipython3",
   "version": "3.10.15"
  }
 },
 "nbformat": 4,
 "nbformat_minor": 2
}
