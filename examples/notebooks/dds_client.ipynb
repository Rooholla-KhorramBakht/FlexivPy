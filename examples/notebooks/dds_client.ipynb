{
 "cells": [
  {
   "cell_type": "code",
   "execution_count": 1,
   "metadata": {},
   "outputs": [],
   "source": [
    "from FlexivPy.robot.interface import FlexivDDSClient"
   ]
  },
  {
   "cell_type": "code",
   "execution_count": null,
   "metadata": {},
   "outputs": [],
   "source": [
    "robot =FlexivDDSClient()"
   ]
  },
  {
   "cell_type": "code",
   "execution_count": 3,
   "metadata": {},
   "outputs": [],
   "source": [
    "from FlexivPy.controllers.taskspace import DiffIKController\n",
    "from FlexivPy.robot.model.pinocchio import FlexivModel\n",
    "from FlexivPy.robot import FlexivCmd\n",
    "model = FlexivModel()\n",
    "task_controller = DiffIKController(model, dt=0.01)"
   ]
  },
  {
   "cell_type": "code",
   "execution_count": 4,
   "metadata": {},
   "outputs": [],
   "source": [
    "import numpy as np\n",
    "cmd = FlexivCmd()\n",
    "cmd.q = model.q0\n",
    "robot.set_cmd(cmd)\n",
    "s = robot.get_robot_state()\n",
    "T_cmd = model.getInfo(model.q0, np.zeros(7))['poses']['link7'].copy()\n",
    "T_cmd[2,-1]+=0.1\n",
    "q_des = s.q"
   ]
  },
  {
   "cell_type": "code",
   "execution_count": 5,
   "metadata": {},
   "outputs": [],
   "source": [
    "import time\n",
    "for i in range(500):\n",
    "    s = robot.get_robot_state()\n",
    "\n",
    "    dq_des = task_controller(np.array(s.q), np.array(s.dq), T_cmd).squeeze()\n",
    "    cmd = FlexivCmd()\n",
    "    cmd.kp = np.ones(7)*15*0\n",
    "    cmd.kv = np.ones(7)*8\n",
    "    cmd.q = q_des\n",
    "    cmd.dq = dq_des\n",
    "    robot.set_cmd(cmd)\n",
    "    time.sleep(task_controller.dt)"
   ]
  },
  {
   "cell_type": "markdown",
   "metadata": {},
   "source": [
    "## Using The Runners"
   ]
  },
  {
   "cell_type": "markdown",
   "metadata": {},
   "source": [
    "### Blocking"
   ]
  },
  {
   "cell_type": "code",
   "execution_count": 5,
   "metadata": {},
   "outputs": [],
   "source": [
    "from FlexivPy.controllers.runners import blocking_runner"
   ]
  },
  {
   "cell_type": "code",
   "execution_count": null,
   "metadata": {},
   "outputs": [],
   "source": [
    "blocking_runner(robot, task_controller)"
   ]
  },
  {
   "cell_type": "markdown",
   "metadata": {},
   "source": [
    "### Nonblocking"
   ]
  },
  {
   "cell_type": "code",
   "execution_count": 13,
   "metadata": {},
   "outputs": [],
   "source": [
    "from FlexivPy.controllers.runners import NonBlockingRunner\n",
    "runner = NonBlockingRunner(robot, task_controller)"
   ]
  },
  {
   "cell_type": "code",
   "execution_count": 10,
   "metadata": {},
   "outputs": [],
   "source": [
    "runner.close()"
   ]
  },
  {
   "cell_type": "code",
   "execution_count": 12,
   "metadata": {},
   "outputs": [],
   "source": [
    "info = model.getInfo(model.q0, np.zeros(7))\n",
    "T_cmd = info['poses']['link7']"
   ]
  },
  {
   "cell_type": "code",
   "execution_count": 14,
   "metadata": {},
   "outputs": [],
   "source": [
    "task_controller.T_cmd = T_cmd"
   ]
  },
  {
   "cell_type": "code",
   "execution_count": 15,
   "metadata": {},
   "outputs": [],
   "source": [
    "runner.close()"
   ]
  }
 ],
 "metadata": {
  "kernelspec": {
   "display_name": "base",
   "language": "python",
   "name": "python3"
  },
  "language_info": {
   "codemirror_mode": {
    "name": "ipython",
    "version": 3
   },
   "file_extension": ".py",
   "mimetype": "text/x-python",
   "name": "python",
   "nbconvert_exporter": "python",
   "pygments_lexer": "ipython3",
   "version": "3.12.5"
  }
 },
 "nbformat": 4,
 "nbformat_minor": 2
}
