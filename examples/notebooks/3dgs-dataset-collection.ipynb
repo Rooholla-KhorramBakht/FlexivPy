{
 "cells": [
  {
   "cell_type": "markdown",
   "metadata": {},
   "source": [
    "# Open The Cameras"
   ]
  },
  {
   "cell_type": "markdown",
   "metadata": {},
   "source": [
    "## Cameras On The Base"
   ]
  },
  {
   "cell_type": "code",
   "execution_count": 1,
   "metadata": {},
   "outputs": [],
   "source": [
    "from FlexivPy.vision import RealSenseCamera"
   ]
  },
  {
   "cell_type": "code",
   "execution_count": null,
   "metadata": {},
   "outputs": [],
   "source": [
    "# Camera to the left of the robot\n",
    "camera1 = RealSenseCamera(VGA=False, camera_serial_no='234222302193')"
   ]
  },
  {
   "cell_type": "code",
   "execution_count": null,
   "metadata": {},
   "outputs": [],
   "source": [
    "# Camera to the right of the robot\n",
    "camera2 = RealSenseCamera(VGA=False, camera_serial_no='231622302407')"
   ]
  },
  {
   "cell_type": "code",
   "execution_count": null,
   "metadata": {},
   "outputs": [],
   "source": [
    "camera1.close()\n",
    "camera2.close()"
   ]
  },
  {
   "cell_type": "code",
   "execution_count": null,
   "metadata": {},
   "outputs": [],
   "source": [
    "import matplotlib.pyplot as plt\n",
    "fig, ax = plt.subplots(1,2)\n",
    "ax[0].imshow(camera1.color_frame)\n",
    "ax[1].imshow(camera2.color_frame)"
   ]
  },
  {
   "cell_type": "code",
   "execution_count": 13,
   "metadata": {},
   "outputs": [],
   "source": [
    "left_cam_ints = camera1.getIntrinsics()\n",
    "right_cam_ints = camera2.getIntrinsics()"
   ]
  },
  {
   "cell_type": "code",
   "execution_count": 14,
   "metadata": {},
   "outputs": [],
   "source": [
    "import cv2\n",
    "def camera_callback(color_frame, depth_frame, ir1_frame, ir2_frame):\n",
    "    cv2.imshow('frame', color_frame)\n",
    "    cv2.waitKey(1)"
   ]
  },
  {
   "cell_type": "code",
   "execution_count": null,
   "metadata": {},
   "outputs": [],
   "source": [
    "from FlexivPy.vision import RealSenseCamera\n",
    "ef_camera = RealSenseCamera(VGA=False, camera_serial_no='141222073965', callback_fn=camera_callback)\n",
    "ef_camera_ints = ef_camera.getIntrinsics()"
   ]
  },
  {
   "cell_type": "code",
   "execution_count": null,
   "metadata": {},
   "outputs": [],
   "source": [
    "plt.imshow(ef_camera.depth_frame)"
   ]
  },
  {
   "cell_type": "code",
   "execution_count": null,
   "metadata": {},
   "outputs": [],
   "source": [
    "from FlexivPy.joy import XBoxController\n",
    "joy = XBoxController(0)"
   ]
  },
  {
   "cell_type": "code",
   "execution_count": null,
   "metadata": {},
   "outputs": [],
   "source": [
    "joy.getStates()"
   ]
  },
  {
   "cell_type": "code",
   "execution_count": null,
   "metadata": {},
   "outputs": [],
   "source": [
    "import pinocchio as pin\n",
    "import numpy as np\n",
    "from FlexivPy.robot.model.pinocchio import FlexivModel\n",
    "from FlexivPy.robot.interface import FlexivDDSClient\n",
    "model = FlexivModel()\n",
    "robot = FlexivDDSClient()"
   ]
  },
  {
   "cell_type": "code",
   "execution_count": null,
   "metadata": {},
   "outputs": [],
   "source": [
    "from FlexivPy.controllers.runners import NonBlockingRunner\n",
    "from FlexivPy.controllers.taskspace import DiffIKController\n",
    "task_controller = DiffIKController(model, dt=0.01, dq_max=1., control_mode='velocity', max_error=0.1)"
   ]
  },
  {
   "cell_type": "code",
   "execution_count": null,
   "metadata": {},
   "outputs": [],
   "source": [
    "runner = NonBlockingRunner(robot, task_controller, timeout=5000.)"
   ]
  },
  {
   "cell_type": "code",
   "execution_count": null,
   "metadata": {},
   "outputs": [],
   "source": [
    "import time\n",
    "import numpy as np\n",
    "\n",
    "ef_rgbs = []\n",
    "left_rgbs = []\n",
    "right_rgbs = []\n",
    "\n",
    "ef_depths=[]\n",
    "left_depths=[]\n",
    "right_depths=[]\n",
    "link7_poses = []\n",
    "\n",
    "time.sleep(0.2)\n",
    "state = robot.get_robot_state()\n",
    "old_A_state = 0\n",
    "if state is not None:\n",
    "    print('starting the controller')\n",
    "    info = model.getInfo(np.array(state.q), np.array(state.dq))\n",
    "    T0 = info['poses']['link7']\n",
    "    # Initialize the desired pose\n",
    "    x0, y0, z0 = 0.0, 0.0, 0.0 \n",
    "    R0 = np.eye(3)\n",
    "    start_time = time.time()\n",
    "    while time.time()-start_time < 1000:\n",
    "        joy_state = joy.getStates()\n",
    "        left_joy = joy_state['left_joy']\n",
    "        right_joy = joy_state['right_joy']\n",
    "\n",
    "        if joy_state['right_bumper']==0:\n",
    "            y0 = y0 + right_joy[0]*0.2/100\n",
    "            x0 = x0 + right_joy[1]*0.2/100\n",
    "            z0 = z0 - left_joy[1]*0.2/100\n",
    "        else:\n",
    "            cmd = np.array([right_joy[0],right_joy[1],left_joy[0]])\n",
    "            omega_hat = np.array([[ 0,       -cmd[2],  cmd[1]],\n",
    "                                [ cmd[2],   0,      -cmd[0]],\n",
    "                                [-cmd[1],   cmd[0],      0]])\n",
    "            R0 = R0@(np.eye(3)+omega_hat/100)\n",
    "\n",
    "        time.sleep(0.01)\n",
    "        T_cmd= T0@np.vstack([np.hstack([R0, np.array([x0,y0,z0]).reshape(3,1)]), np.array([0,0,0,1])])\n",
    "        task_controller.T_cmd = T_cmd\n",
    "        state = robot.get_robot_state()\n",
    "        info = model.getInfo(np.array(state.q), np.array(state.dq))\n",
    "        T = info['poses']['link7']\n",
    "        if joy_state['A'] and old_A_state==0:\n",
    "            old_A_state = joy_state['A']\n",
    "            link7_poses.append(T.copy())\n",
    "            left_rgbs.append(camera1.color_frame.copy())\n",
    "            right_rgbs.append(camera2.color_frame.copy())\n",
    "            ef_rgbs.append(ef_camera.color_frame.copy())\n",
    "            left_depths.append(camera1.depth_frame.copy())\n",
    "            right_depths.append(camera2.depth_frame.copy())\n",
    "            ef_depths.append(ef_camera.depth_frame.copy())\n",
    "            print(f'took a pictures {time.time()}')\n",
    "            time.sleep(0.1)\n",
    "        else:\n",
    "            old_A_state=joy_state['A']\n",
    "\n",
    "    print('Demo ended.')\n",
    "else:\n",
    "    print('State is None. check the connection')"
   ]
  },
  {
   "cell_type": "code",
   "execution_count": null,
   "metadata": {},
   "outputs": [],
   "source": [
    "len(left_rgbs)"
   ]
  },
  {
   "cell_type": "code",
   "execution_count": null,
   "metadata": {},
   "outputs": [],
   "source": [
    "import matplotlib.pyplot as plt\n",
    "i=0\n",
    "fig, ax = plt.subplots(1,3)\n",
    "ax[0].imshow(left_rgbs[i])\n",
    "ax[1].imshow(right_rgbs[i])\n",
    "ax[2].imshow(ef_rgbs[i])"
   ]
  },
  {
   "cell_type": "code",
   "execution_count": 30,
   "metadata": {},
   "outputs": [],
   "source": [
    "import pickle \n",
    "with open('data/3dgs_dataset1.pkl', 'wb') as f:\n",
    "    pickle.dump(\n",
    "        {\n",
    "            'link7_poses':link7_poses,\n",
    "            'left_rgbs':left_rgbs,\n",
    "            'right_rgbs':right_rgbs,\n",
    "            'ef_rgbs':ef_rgbs,\n",
    "            'left_depths':left_depths,\n",
    "            'right_depths':right_depths,\n",
    "            'ef_depths':ef_depths,\n",
    "            'ef_camera_ints':ef_camera_ints,\n",
    "            'left_cam_ints':left_cam_ints,\n",
    "            'right_cam_ints':right_cam_ints\n",
    "        },\n",
    "        f\n",
    "    )"
   ]
  },
  {
   "cell_type": "code",
   "execution_count": 32,
   "metadata": {},
   "outputs": [],
   "source": [
    "runner.close()"
   ]
  },
  {
   "cell_type": "code",
   "execution_count": 33,
   "metadata": {},
   "outputs": [],
   "source": [
    "robot.close()"
   ]
  },
  {
   "cell_type": "code",
   "execution_count": null,
   "metadata": {},
   "outputs": [],
   "source": [
    "ef_camera.close()\n",
    "camera1.close()\n",
    "camera2.close()"
   ]
  }
 ],
 "metadata": {
  "kernelspec": {
   "display_name": "flexivpy",
   "language": "python",
   "name": "python3"
  },
  "language_info": {
   "codemirror_mode": {
    "name": "ipython",
    "version": 3
   },
   "file_extension": ".py",
   "mimetype": "text/x-python",
   "name": "python",
   "nbconvert_exporter": "python",
   "pygments_lexer": "ipython3",
   "version": "3.10.15"
  }
 },
 "nbformat": 4,
 "nbformat_minor": 2
}
