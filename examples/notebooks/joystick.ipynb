{
 "cells": [
  {
   "cell_type": "code",
   "execution_count": 1,
   "metadata": {},
   "outputs": [
    {
     "name": "stdout",
     "output_type": "stream",
     "text": [
      "pygame 2.6.1 (SDL 2.28.4, Python 3.10.15)\n",
      "Hello from the pygame community. https://www.pygame.org/contribute.html\n"
     ]
    },
    {
     "name": "stderr",
     "output_type": "stream",
     "text": [
      "error: XDG_RUNTIME_DIR is invalid or not set in the environment.\n"
     ]
    },
    {
     "name": "stdout",
     "output_type": "stream",
     "text": [
      "Put your stick at reset and do not touch it while calibrating\n"
     ]
    }
   ],
   "source": [
    "import os\n",
    "%load_ext autoreload\n",
    "%autoreload 2\n",
    "\n",
    "from FlexivPy.joy import XBoxController\n",
    "joy = XBoxController(0)"
   ]
  },
  {
   "cell_type": "code",
   "execution_count": 2,
   "metadata": {},
   "outputs": [
    {
     "data": {
      "text/plain": [
       "{'left_joy': array([ 0., -0.]),\n",
       " 'right_joy': array([ 0., -0.]),\n",
       " 'left_trigger': 0.0004999999999999449,\n",
       " 'right_trigger': 0.0004999999999999449,\n",
       " 'A': 0,\n",
       " 'B': 0,\n",
       " 'X': 0,\n",
       " 'Y': 0,\n",
       " 'left_bumper': 0,\n",
       " 'right_bumper': 0,\n",
       " 'options_left': 0,\n",
       " 'options_right': 0,\n",
       " 'left_joy_btn': 0,\n",
       " 'right_joy_btn': 0}"
      ]
     },
     "execution_count": 2,
     "metadata": {},
     "output_type": "execute_result"
    }
   ],
   "source": [
    "joy.getStates()"
   ]
  },
  {
   "cell_type": "markdown",
   "metadata": {},
   "source": [
    "Before going through the next cells, start the asynchronous simulator or the real robot bridge by tunning the following in your terminal:\n",
    "\n",
    "**Asynchronous Simulator:**\n",
    "\n",
    "```bash\n",
    "flexivpy_async_sim --mode velocity\n",
    "```\n",
    "\n",
    "**Real Robot Client**\n",
    "\n",
    "```bash\n",
    "robot_server -cm 3 -g --path /home/FlexivPy/FlexivPy/assets/ -rcf /home/FlexivPy/flexivpy_bridge/config.yaml\n",
    "```\n",
    "The `cm` 3 means that the robot is started in joint velocity mode."
   ]
  },
  {
   "cell_type": "code",
   "execution_count": 3,
   "metadata": {},
   "outputs": [
    {
     "name": "stderr",
     "output_type": "stream",
     "text": [
      "ALSA lib pcm.c:8750:(snd_pcm_recover) underrun occurred\n"
     ]
    },
    {
     "name": "stdout",
     "output_type": "stream",
     "text": [
      "waiting to receive the first message from the robot...\n",
      "Robot is ready!\n"
     ]
    }
   ],
   "source": [
    "import pinocchio as pin\n",
    "import numpy as np\n",
    "from FlexivPy.robot.model.pinocchio import FlexivModel\n",
    "from FlexivPy.robot.interface import FlexivDDSClient\n",
    "model = FlexivModel()\n",
    "robot =FlexivDDSClient()"
   ]
  },
  {
   "cell_type": "code",
   "execution_count": null,
   "metadata": {},
   "outputs": [],
   "source": [
    "from FlexivPy.robot import FlexivCmd\n",
    "import time\n",
    "for i in range(200):\n",
    "    cmd = FlexivCmd()\n",
    "    cmd.dq = np.array([-0.0, 0.00, 0, 0, 0, 0, 0])\n",
    "    cmd.mode=3\n",
    "    robot.set_cmd(cmd)\n",
    "    time.sleep(0.01)"
   ]
  },
  {
   "cell_type": "code",
   "execution_count": 4,
   "metadata": {},
   "outputs": [
    {
     "name": "stdout",
     "output_type": "stream",
     "text": [
      "goal reached\n"
     ]
    },
    {
     "data": {
      "text/plain": [
       "<ControllerStatus.GOAL_REACHED: 1>"
      ]
     },
     "execution_count": 4,
     "metadata": {},
     "output_type": "execute_result"
    }
   ],
   "source": [
    "from FlexivPy.controllers.jointspace import RRTController\n",
    "from FlexivPy.controllers.runners import blocking_runner\n",
    "homing_controller = RRTController(goal_tolerance=0.005)\n",
    "blocking_runner(robot, homing_controller)"
   ]
  },
  {
   "cell_type": "code",
   "execution_count": 5,
   "metadata": {},
   "outputs": [],
   "source": [
    "from FlexivPy.controllers.runners import NonBlockingRunner\n",
    "from FlexivPy.controllers.taskspace import DiffIKController\n",
    "task_controller = DiffIKController(model, dt=0.01, dq_max=1., control_mode='velocity')"
   ]
  },
  {
   "cell_type": "code",
   "execution_count": 6,
   "metadata": {},
   "outputs": [
    {
     "name": "stderr",
     "output_type": "stream",
     "text": [
      "ALSA lib pcm.c:8750:(snd_pcm_recover) underrun occurred\n",
      "ALSA lib pcm.c:8750:(snd_pcm_recover) underrun occurred\n"
     ]
    },
    {
     "name": "stdout",
     "output_type": "stream",
     "text": [
      "max time reached\n"
     ]
    }
   ],
   "source": [
    "runner = NonBlockingRunner(robot, task_controller, timeout=120.)"
   ]
  },
  {
   "cell_type": "code",
   "execution_count": 7,
   "metadata": {},
   "outputs": [
    {
     "name": "stdout",
     "output_type": "stream",
     "text": [
      "starting the controller\n"
     ]
    },
    {
     "name": "stderr",
     "output_type": "stream",
     "text": [
      "ALSA lib pcm.c:8750:(snd_pcm_recover) underrun occurred\n",
      "ALSA lib pcm.c:8750:(snd_pcm_recover) underrun occurred\n",
      "ALSA lib pcm.c:8750:(snd_pcm_recover) underrun occurred\n",
      "ALSA lib pcm.c:8750:(snd_pcm_recover) underrun occurred\n",
      "ALSA lib pcm.c:8750:(snd_pcm_recover) underrun occurred\n",
      "ALSA lib pcm.c:8750:(snd_pcm_recover) underrun occurred\n",
      "ALSA lib pcm.c:8750:(snd_pcm_recover) underrun occurred\n",
      "ALSA lib pcm.c:8750:(snd_pcm_recover) underrun occurred\n",
      "ALSA lib pcm.c:8750:(snd_pcm_recover) underrun occurred\n",
      "ALSA lib pcm.c:8750:(snd_pcm_recover) underrun occurred\n",
      "ALSA lib pcm.c:8750:(snd_pcm_recover) underrun occurred\n"
     ]
    },
    {
     "ename": "KeyboardInterrupt",
     "evalue": "",
     "output_type": "error",
     "traceback": [
      "\u001b[0;31m---------------------------------------------------------------------------\u001b[0m",
      "\u001b[0;31mKeyboardInterrupt\u001b[0m                         Traceback (most recent call last)",
      "Cell \u001b[0;32mIn[7], line 49\u001b[0m\n\u001b[1;32m     44\u001b[0m     omega_hat \u001b[38;5;241m=\u001b[39m np\u001b[38;5;241m.\u001b[39marray([[ \u001b[38;5;241m0\u001b[39m,       \u001b[38;5;241m-\u001b[39mcmd[\u001b[38;5;241m2\u001b[39m],  cmd[\u001b[38;5;241m1\u001b[39m]],\n\u001b[1;32m     45\u001b[0m                         [ cmd[\u001b[38;5;241m2\u001b[39m],   \u001b[38;5;241m0\u001b[39m,      \u001b[38;5;241m-\u001b[39mcmd[\u001b[38;5;241m0\u001b[39m]],\n\u001b[1;32m     46\u001b[0m                         [\u001b[38;5;241m-\u001b[39mcmd[\u001b[38;5;241m1\u001b[39m],   cmd[\u001b[38;5;241m0\u001b[39m],      \u001b[38;5;241m0\u001b[39m]])\n\u001b[1;32m     47\u001b[0m     R0 \u001b[38;5;241m=\u001b[39m R0\u001b[38;5;241m@\u001b[39m(np\u001b[38;5;241m.\u001b[39meye(\u001b[38;5;241m3\u001b[39m)\u001b[38;5;241m+\u001b[39momega_hat\u001b[38;5;241m/\u001b[39m\u001b[38;5;241m100\u001b[39m)\n\u001b[0;32m---> 49\u001b[0m \u001b[43mtime\u001b[49m\u001b[38;5;241;43m.\u001b[39;49m\u001b[43msleep\u001b[49m\u001b[43m(\u001b[49m\u001b[38;5;241;43m0.01\u001b[39;49m\u001b[43m)\u001b[49m\n\u001b[1;32m     50\u001b[0m T_cmd\u001b[38;5;241m=\u001b[39m T0\u001b[38;5;129m@np\u001b[39m\u001b[38;5;241m.\u001b[39mvstack([np\u001b[38;5;241m.\u001b[39mhstack([R0, np\u001b[38;5;241m.\u001b[39marray([x0,y0,z0])\u001b[38;5;241m.\u001b[39mreshape(\u001b[38;5;241m3\u001b[39m,\u001b[38;5;241m1\u001b[39m)]), np\u001b[38;5;241m.\u001b[39marray([\u001b[38;5;241m0\u001b[39m,\u001b[38;5;241m0\u001b[39m,\u001b[38;5;241m0\u001b[39m,\u001b[38;5;241m1\u001b[39m])])\n\u001b[1;32m     51\u001b[0m task_controller\u001b[38;5;241m.\u001b[39mT_cmd \u001b[38;5;241m=\u001b[39m T_cmd\n",
      "\u001b[0;31mKeyboardInterrupt\u001b[0m: "
     ]
    }
   ],
   "source": [
    "import time\n",
    "import numpy as np\n",
    "import datetime\n",
    "time.sleep(0.2)\n",
    "state = robot.get_robot_state()\n",
    "\n",
    "if state is not None:\n",
    "    print('starting the controller')\n",
    "    info = model.getInfo(np.array(state.q), np.array(state.dq))\n",
    "    T0 = info['poses']['link7']\n",
    "    # Initialize the desired pose\n",
    "    x0, y0, z0 = 0.0, 0.0, 0.0 \n",
    "    R0 = np.eye(3)\n",
    "    start_time = time.time()\n",
    "    while time.time()-start_time < 100:\n",
    "        joy_state = joy.getStates()\n",
    "        left_joy = joy_state['left_joy']\n",
    "        right_joy = joy_state['right_joy']\n",
    "        \n",
    "        if joy_state['right_bumper']==0:\n",
    "            vx_cmd = right_joy[1]\n",
    "            vy_cmd = right_joy[0]\n",
    "            vz_cmd = left_joy[0]\n",
    "            if np.abs(vx_cmd)<0.1:\n",
    "                vx_cmd=0\n",
    "            if np.abs(vy_cmd)<0.1:\n",
    "                vy_cmd=0\n",
    "            if np.abs(vz_cmd)<0.1:\n",
    "                vz_cmd=0\n",
    "            y0 = y0 + vy_cmd*0.2/100\n",
    "            x0 = x0 + vx_cmd*0.2/100\n",
    "            z0 = z0 - vz_cmd*0.2/100\n",
    "        else:\n",
    "            wx_cmd = right_joy[1]\n",
    "            wy_cmd = right_joy[0]\n",
    "            wz_cmd = left_joy[0]\n",
    "            if np.abs(wx_cmd)<0.1:\n",
    "                wx_cmd=0\n",
    "            if np.abs(wy_cmd)<0.1:\n",
    "                wy_cmd=0\n",
    "            if np.abs(wz_cmd)<0.1:\n",
    "                wz_cmd=0\n",
    "            cmd = np.array([wx_cmd,wy_cmd,wz_cmd])\n",
    "            omega_hat = np.array([[ 0,       -cmd[2],  cmd[1]],\n",
    "                                [ cmd[2],   0,      -cmd[0]],\n",
    "                                [-cmd[1],   cmd[0],      0]])\n",
    "            R0 = R0@(np.eye(3)+omega_hat/100)\n",
    "\n",
    "        time.sleep(0.01)\n",
    "        T_cmd= T0@np.vstack([np.hstack([R0, np.array([x0,y0,z0]).reshape(3,1)]), np.array([0,0,0,1])])\n",
    "        task_controller.T_cmd = T_cmd\n",
    "        # state = robot.get_robot_state()\n",
    "        # info = model.getInfo(np.array(state.q), np.array(state.dq))\n",
    "        # J = info['Js']['link7']\n",
    "        # print(np.linalg.det(J@J.T))\n",
    "    print('Demo ended.')\n",
    "else:\n",
    "    print('State is None. check the connection')"
   ]
  },
  {
   "cell_type": "code",
   "execution_count": null,
   "metadata": {},
   "outputs": [],
   "source": []
  }
 ],
 "metadata": {
  "kernelspec": {
   "display_name": "flexivpy",
   "language": "python",
   "name": "python3"
  },
  "language_info": {
   "codemirror_mode": {
    "name": "ipython",
    "version": 3
   },
   "file_extension": ".py",
   "mimetype": "text/x-python",
   "name": "python",
   "nbconvert_exporter": "python",
   "pygments_lexer": "ipython3",
   "version": "3.10.15"
  }
 },
 "nbformat": 4,
 "nbformat_minor": 2
}
