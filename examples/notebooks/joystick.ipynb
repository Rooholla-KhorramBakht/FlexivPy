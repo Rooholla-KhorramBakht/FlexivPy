{
 "cells": [
  {
   "cell_type": "code",
   "execution_count": null,
   "metadata": {},
   "outputs": [],
   "source": [
    "from FlexivPy.joy import XBoxController\n",
    "joy = XBoxController(0)"
   ]
  },
  {
   "cell_type": "code",
   "execution_count": null,
   "metadata": {},
   "outputs": [],
   "source": [
    "joy.getStates()"
   ]
  },
  {
   "cell_type": "code",
   "execution_count": null,
   "metadata": {},
   "outputs": [],
   "source": [
    "import pinocchio as pin\n",
    "import numpy as np\n",
    "from FlexivPy.robot.model.pinocchio import FlexivModel\n",
    "from FlexivPy.robot.interface import FlexivDDSClient\n",
    "model = FlexivModel()\n",
    "robot =FlexivDDSClient()"
   ]
  },
  {
   "cell_type": "code",
   "execution_count": 11,
   "metadata": {},
   "outputs": [],
   "source": [
    "from FlexivPy.robot import FlexivCmd\n",
    "import time\n",
    "for i in range(200):\n",
    "    cmd = FlexivCmd()\n",
    "    cmd.dq = np.array([-0.0, 0.05, 0, 0, 0, 0, 0])\n",
    "    cmd.mode=3\n",
    "    robot.set_cmd(cmd)\n",
    "    time.sleep(0.01)"
   ]
  },
  {
   "cell_type": "code",
   "execution_count": null,
   "metadata": {},
   "outputs": [],
   "source": [
    "from FlexivPy.controllers.jointspace import RRTController\n",
    "from FlexivPy.controllers.runners import blocking_runner\n",
    "homing_controller = RRTController()\n",
    "blocking_runner(robot, homing_controller)"
   ]
  },
  {
   "cell_type": "code",
   "execution_count": 4,
   "metadata": {},
   "outputs": [],
   "source": [
    "from FlexivPy.controllers.runners import NonBlockingRunner\n",
    "from FlexivPy.controllers.taskspace import DiffIKController\n",
    "task_controller = DiffIKController(model, dt=0.01, dq_max=1., control_mode='velocity')"
   ]
  },
  {
   "cell_type": "code",
   "execution_count": 6,
   "metadata": {},
   "outputs": [],
   "source": [
    "runner = NonBlockingRunner(robot, task_controller, timeout=60.)"
   ]
  },
  {
   "cell_type": "code",
   "execution_count": null,
   "metadata": {},
   "outputs": [],
   "source": [
    "import time\n",
    "import numpy as np\n",
    "import datetime\n",
    "time.sleep(0.2)\n",
    "state = robot.get_robot_state()\n",
    "\n",
    "if state is not None:\n",
    "    print('starting the controller')\n",
    "    info = model.getInfo(np.array(state.q), np.array(state.dq))\n",
    "    T0 = info['poses']['link7']\n",
    "    # Initialize the desired pose\n",
    "    x0, y0, z0 = 0.0, 0.0, 0.0 \n",
    "    R0 = np.eye(3)\n",
    "    start_time = time.time()\n",
    "    while time.time()-start_time < 100:\n",
    "        joy_state = joy.getStates()\n",
    "        left_joy = joy_state['left_joy']\n",
    "        right_joy = joy_state['right_joy']\n",
    "\n",
    "        if joy_state['right_bumper']==0:\n",
    "            y0 = y0 + right_joy[0]*0.2/100\n",
    "            x0 = x0 + right_joy[1]*0.2/100\n",
    "            z0 = z0 - left_joy[1]*0.2/100\n",
    "        else:\n",
    "            cmd = np.array([right_joy[0],right_joy[1],left_joy[0]])\n",
    "            omega_hat = np.array([[ 0,       -cmd[2],  cmd[1]],\n",
    "                                [ cmd[2],   0,      -cmd[0]],\n",
    "                                [-cmd[1],   cmd[0],      0]])\n",
    "            R0 = R0@(np.eye(3)+omega_hat/100)\n",
    "\n",
    "        time.sleep(0.01)\n",
    "        T_cmd= T0@np.vstack([np.hstack([R0, np.array([x0,y0,z0]).reshape(3,1)]), np.array([0,0,0,1])])\n",
    "        task_controller.T_cmd = T_cmd\n",
    "        # state = robot.get_robot_state()\n",
    "        # info = model.getInfo(np.array(state.q), np.array(state.dq))\n",
    "        # J = info['Js']['link7']\n",
    "        # print(np.linalg.det(J@J.T))\n",
    "    print('Demo ended.')\n",
    "else:\n",
    "    print('State is None. check the connection')"
   ]
  }
 ],
 "metadata": {
  "kernelspec": {
   "display_name": "base",
   "language": "python",
   "name": "python3"
  },
  "language_info": {
   "codemirror_mode": {
    "name": "ipython",
    "version": 3
   },
   "file_extension": ".py",
   "mimetype": "text/x-python",
   "name": "python",
   "nbconvert_exporter": "python",
   "pygments_lexer": "ipython3",
   "version": "3.10.15"
  }
 },
 "nbformat": 4,
 "nbformat_minor": 2
}
