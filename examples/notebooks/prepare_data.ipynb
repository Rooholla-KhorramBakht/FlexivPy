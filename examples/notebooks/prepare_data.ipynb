{
 "cells": [
  {
   "cell_type": "code",
   "execution_count": null,
   "metadata": {},
   "outputs": [],
   "source": [
    "# load the data\n",
    "import numpy as np\n",
    "import imageio\n",
    "import glob\n",
    "import os\n",
    "\n",
    "path = \"./data_t_v0/2024-12-06__15-33-12/img\"\n",
    "\n",
    "# Get and print the current working directory\n",
    "current_path = os.getcwd()\n",
    "print(f\"Current working directory: {current_path}\")\n",
    "\n",
    "\n",
    "# Define the path\n",
    "\n",
    "# Get a sorted list of all PNG files in the directory\n",
    "png_files = sorted(glob.glob(os.path.join(path, \"*.png\")))\n",
    "print(\"png_files\", png_files)\n",
    "\n",
    "# Load the images into a list\n",
    "images = [imageio.imread(file) for file in png_files]\n",
    "\n",
    "# load \n",
    "\n",
    "# generate video \n",
    "imageio.mimsave(\"tmp.mp4\" , images  , fps=10., codec = \"h264\")\n"
   ]
  },
  {
   "cell_type": "code",
   "execution_count": null,
   "metadata": {},
   "outputs": [],
   "source": [
    "# load the data\n",
    "import json\n",
    "from FlexivPy.robot.model.pinocchio import FlexivModel\n",
    "import numpy as np\n",
    "import pathlib\n",
    "import pickle\n",
    "\n",
    "data_file = \"./data_t_v0/2024-12-06__15-33-12/data/data.pkl\"\n",
    "with open(data_file, \"rb\") as f:\n",
    "    Din = pickle.load(f)\n",
    "model = FlexivModel()\n",
    "\n",
    "# compute the end effector position. \n",
    "def get_endeff_pos(q):\n",
    "    dq = np.zeros(7)\n",
    "    D = model.getInfo(q, dq)\n",
    "    T0 =  D[\"poses\"][\"link7\"]\n",
    "    return T0\n",
    "\n",
    "\n",
    "T = get_endeff_pos(Din[\"q\"][0])\n",
    "\n",
    "\n",
    "\n"
   ]
  },
  {
   "cell_type": "code",
   "execution_count": null,
   "metadata": {},
   "outputs": [],
   "source": []
  }
 ],
 "metadata": {
  "kernelspec": {
   "display_name": "flexivpy",
   "language": "python",
   "name": "python3"
  },
  "language_info": {
   "codemirror_mode": {
    "name": "ipython",
    "version": 3
   },
   "file_extension": ".py",
   "mimetype": "text/x-python",
   "name": "python",
   "nbconvert_exporter": "python",
   "pygments_lexer": "ipython3",
   "version": "3.10.16"
  }
 },
 "nbformat": 4,
 "nbformat_minor": 2
}
