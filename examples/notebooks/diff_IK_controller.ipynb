{
 "cells": [
  {
   "cell_type": "code",
   "execution_count": 2,
   "metadata": {},
   "outputs": [],
   "source": [
    "import pinocchio as pin\n",
    "import numpy as np\n",
    "from FlexivPy.robot.model.pinocchio import FlexivModel\n",
    "from FlexivPy.sim.MuJoCo import FlexivSimMujoco as FlexivSim\n",
    "from FlexivPy.robot.dds.flexiv_messages import FlexivCmd"
   ]
  },
  {
   "cell_type": "code",
   "execution_count": 3,
   "metadata": {},
   "outputs": [
    {
     "name": "stdout",
     "output_type": "stream",
     "text": [
      "robot sim is ready!\n"
     ]
    }
   ],
   "source": [
    "model = FlexivModel()\n",
    "robot = FlexivSim(render=True, dt=0.002, mode=\"position\")"
   ]
  },
  {
   "cell_type": "code",
   "execution_count": 4,
   "metadata": {},
   "outputs": [],
   "source": [
    "from FlexivPy.controllers.taskspace import DiffIKController\n",
    "\n",
    "task_controller = DiffIKController(model, dt=0.01)"
   ]
  },
  {
   "cell_type": "markdown",
   "metadata": {},
   "source": [
    "## Direct Simulation"
   ]
  },
  {
   "cell_type": "code",
   "execution_count": 5,
   "metadata": {},
   "outputs": [],
   "source": [
    "robot.reset_state_robot(model.q0, np.zeros_like(model.q0))\n",
    "cmd = FlexivCmd()\n",
    "cmd.q = model.q0\n",
    "robot.set_cmd(cmd)\n",
    "robot.viewer.sync()\n",
    "s = robot.get_robot_state()\n",
    "T_cmd = model.getInfo(model.q0, np.zeros(7))[\"poses\"][\"link7\"].copy()\n",
    "T_cmd[2, -1] += 0.1\n",
    "q_des = s.q"
   ]
  },
  {
   "cell_type": "code",
   "execution_count": 6,
   "metadata": {},
   "outputs": [],
   "source": [
    "import time\n",
    "\n",
    "for i in range(5000):\n",
    "    s = robot.get_robot_state()\n",
    "    dq_des = task_controller(s.q, s.dq, T_cmd).squeeze()\n",
    "    dt = robot.dt\n",
    "    cmd = FlexivCmd()\n",
    "    cmd.kp = np.ones(7) * 15 * 0\n",
    "    cmd.kv = np.ones(7) * 8\n",
    "    q_des += dq_des * dt\n",
    "    q_des = np.clip(q_des, robot.joints_lower_limits, robot.joints_upper_limits)\n",
    "    cmd.q = q_des\n",
    "    cmd.dq = dq_des\n",
    "    robot.set_cmd(cmd)\n",
    "    for _ in range(5):\n",
    "        robot.step()"
   ]
  },
  {
   "cell_type": "code",
   "execution_count": 10,
   "metadata": {},
   "outputs": [],
   "source": [
    "import time\n",
    "\n",
    "s = robot.get_robot_state()\n",
    "task_controller.setup(s)\n",
    "for i in range(5000):\n",
    "    s = robot.get_robot_state()\n",
    "    cmd = task_controller.get_control(s, 0)\n",
    "    robot.set_cmd(cmd)\n",
    "    for _ in range(5):\n",
    "        robot.step()"
   ]
  },
  {
   "cell_type": "markdown",
   "metadata": {},
   "source": [
    "## Using The Runners"
   ]
  },
  {
   "cell_type": "markdown",
   "metadata": {},
   "source": [
    "### Blocking"
   ]
  },
  {
   "cell_type": "code",
   "execution_count": 7,
   "metadata": {},
   "outputs": [],
   "source": [
    "from FlexivPy.controllers.runners import blocking_runner"
   ]
  },
  {
   "cell_type": "code",
   "execution_count": 8,
   "metadata": {},
   "outputs": [],
   "source": [
    "from FlexivPy.controllers.jointspace import RRTController\n",
    "\n",
    "homing_controller = RRTController(control_mode=\"velocity\")"
   ]
  },
  {
   "cell_type": "code",
   "execution_count": 9,
   "metadata": {},
   "outputs": [
    {
     "name": "stdout",
     "output_type": "stream",
     "text": [
      "goal reached\n"
     ]
    },
    {
     "data": {
      "text/plain": [
       "<ControllerStatus.GOAL_REACHED: 1>"
      ]
     },
     "execution_count": 9,
     "metadata": {},
     "output_type": "execute_result"
    }
   ],
   "source": [
    "blocking_runner(robot, homing_controller)"
   ]
  },
  {
   "cell_type": "code",
   "execution_count": null,
   "metadata": {},
   "outputs": [],
   "source": [
    "robot.reset_state_robot(model.q0, np.zeros(7))\n",
    "robot.viewer.sync()\n",
    "blocking_runner(robot, task_controller)"
   ]
  },
  {
   "cell_type": "markdown",
   "metadata": {},
   "source": [
    "### Nonblocking"
   ]
  },
  {
   "cell_type": "code",
   "execution_count": 4,
   "metadata": {},
   "outputs": [],
   "source": [
    "from FlexivPy.controllers.runners import NonBlockingRunner\n",
    "\n",
    "runner = NonBlockingRunner(robot, task_controller)"
   ]
  },
  {
   "cell_type": "code",
   "execution_count": null,
   "metadata": {},
   "outputs": [],
   "source": [
    "runner.close()"
   ]
  },
  {
   "cell_type": "code",
   "execution_count": null,
   "metadata": {},
   "outputs": [],
   "source": [
    "info = model.getInfo(model.q0, np.zeros(7))\n",
    "T_cmd = info[\"poses\"][\"link7\"]"
   ]
  },
  {
   "cell_type": "code",
   "execution_count": null,
   "metadata": {},
   "outputs": [],
   "source": [
    "task_controller.T_cmd = T_cmd"
   ]
  },
  {
   "cell_type": "code",
   "execution_count": null,
   "metadata": {},
   "outputs": [],
   "source": [
    "runner.close()"
   ]
  }
 ],
 "metadata": {
  "kernelspec": {
   "display_name": "base",
   "language": "python",
   "name": "python3"
  },
  "language_info": {
   "codemirror_mode": {
    "name": "ipython",
    "version": 3
   },
   "file_extension": ".py",
   "mimetype": "text/x-python",
   "name": "python",
   "nbconvert_exporter": "python",
   "pygments_lexer": "ipython3",
   "version": "3.10.15"
  }
 },
 "nbformat": 4,
 "nbformat_minor": 2
}
